{
 "cells": [
  {
   "cell_type": "markdown",
   "metadata": {},
   "source": [
    "# load libraries and data"
   ]
  },
  {
   "cell_type": "code",
   "execution_count": 1,
   "metadata": {
    "scrolled": true
   },
   "outputs": [
    {
     "name": "stdout",
     "output_type": "stream",
     "text": [
      "(122398, 27)\n",
      "['interval_statin', 'mace', 'group_after_detail_1', 'statin_drug', 'AGE', 'SEX', 'HTN', 'ICDHTN', 'trt_ICD_DM', 'DM', 'BMI', 'WAIST', 'BP_HIGH', 'BP_LWST', 'BLDS', 'TOT_CHOLE', 'TRIGLYCERIDE', 'HDL_CHOLE', 'LDL_CHOLE', 'HMG', 'smoking', 'econo', 'drinking', 'HMG.1', 'LDL_CHOLE.1', 'current_ascvd', 'risk']\n",
      "1\n",
      "['risk']\n"
     ]
    }
   ],
   "source": [
    "from torch import nn\n",
    "import torch\n",
    "from torch import tensor \n",
    "from torch.autograd import Variable\n",
    "import pandas as pd\n",
    "import numpy as np\n",
    "import matplotlib.pyplot as plt \n",
    "from pytorch_tabnet.tab_model import TabNetClassifier, TabNetRegressor\n",
    "from sklearn.metrics import roc_auc_score\n",
    "from sklearn.model_selection import KFold\n",
    "import torch\n",
    "import itertools\n",
    "from pytorch_tabnet.tab_model import TabNetClassifier\n",
    "from sklearn.metrics import roc_auc_score, accuracy_score\n",
    "from tqdm.notebook import tqdm\n",
    "from pathlib import Path\n",
    "import os\n",
    "\n",
    "total_out = Path(os.getcwd()+'/Statin_preprocess.csv')\n",
    "total_data= pd.read_csv(total_out)\n",
    "print(total_data.shape)\n",
    "print(list(total_data.columns))\n",
    "\n",
    "target ='mace'\n",
    "\n",
    "# mri feature가 시작하는 column의 index 구하기\n",
    "# np.where의 결과값이 array에 들어가기 때문에 방금 계산해 넣어놓은 [0]번째 값을 가져온다.\n",
    "start_features_index = np.where(total_data.columns.values == \"group_after_detail_1\")[0][0]\n",
    "features = list(['risk'])\n",
    "\n",
    "print(len(features))\n",
    "print(features)\n",
    "\n",
    "Num_feat = len(features)"
   ]
  },
  {
   "cell_type": "code",
   "execution_count": 2,
   "metadata": {},
   "outputs": [],
   "source": [
    "def feature(Num_feat, clf, test_data_processed, features):\n",
    "    importance =clf.feature_importances_\n",
    "    #plt.plot(importance)\n",
    "    #plt.show()\n",
    "    labels_importance=importance.argsort()[::-1]\n",
    "\n",
    "    importance_sort = np.sort(importance)[::-1]\n",
    "\n",
    "    feat_name_sort=test_data_processed[features].columns[labels_importance]\n",
    "    important_features = pd.DataFrame() \n",
    "    \n",
    "    for i in range (Num_feat):\n",
    "        feature = pd.DataFrame([[feat_name_sort[i],importance_sort[i]]], columns = ['feature name', 'ratio'])\n",
    "        important_features=pd.concat([important_features,feature])\n",
    "\n",
    "    return important_features.reset_index(drop=True)"
   ]
  },
  {
   "cell_type": "markdown",
   "metadata": {},
   "source": [
    "# Finding best parameters"
   ]
  },
  {
   "cell_type": "code",
   "execution_count": 3,
   "metadata": {},
   "outputs": [],
   "source": [
    "# Augmented\n",
    "import torch\n",
    "import itertools\n",
    "from sklearn.metrics import confusion_matrix\n",
    "from pytorch_tabnet.tab_model import TabNetClassifier\n",
    "from sklearn.metrics import roc_auc_score, accuracy_score\n",
    "from tqdm.notebook import tqdm\n",
    "\n",
    "\n",
    "def find_bestpar(train_data, test_data, features):\n",
    "    \n",
    "    valid_cut = (int)(len(train_data)*0.8)\n",
    "    for_Train = train_data[:valid_cut]\n",
    "    for_Validation = train_data[valid_cut:]\n",
    "    \n",
    "    \"\"\"train data 생성\"\"\"\n",
    "    X_train = for_Train[features].values\n",
    "    Y_train = for_Train[target].values\n",
    "    \n",
    "    \"\"\"valid data 생성\"\"\"\n",
    "    X_valid = for_Validation[features].values\n",
    "    Y_valid = for_Validation[target].values\n",
    "    \n",
    "    \"\"\"test data 생성\"\"\"\n",
    "    X_test = test_data[features].values\n",
    "    Y_test = test_data[target].values\n",
    "    \n",
    "    print(len(X_train), len(X_valid), len(X_test))            \n",
    "    \n",
    "    # Store maximum auc\n",
    "    max_auc= 0\n",
    "    # Store maximum hypterparameter set\n",
    "    max_hy = []\n",
    "    \n",
    "    \"\"\"\n",
    "    # define hyperparameter space : learning rate, \n",
    "    n_ = [4,8,16]                              # \n",
    "    lr_ = [2e-2, 1e-2, 5e-3, 2e-3, 1e-3, 1e-4] # learning rate\n",
    "    w_ = [0.01, 0.001, 0.0001]                 # weight decay\n",
    "    g_ = [0.95, 0.99, 0.9]                     # scheduler params - gamma\n",
    "    ss_ = [10, 20, 30]                         # scheduler params - step_size\n",
    "    \"\"\"\n",
    "    # Orginal hyperparameter space \n",
    "    \n",
    "    # define hyperparameter space (quick version)\n",
    "    n_ = [4,16]\n",
    "    lr_ = [2e-2,1e-3]\n",
    "    w_ = [0.01,0.001]\n",
    "    g_ = [0.95,0.99]\n",
    "    ss_ = [10,30]\n",
    "    \n",
    "    all_ = [n_, lr_, w_, g_, ss_]\n",
    "    h_space = [s for s in itertools.product(*all_)]\n",
    "    \n",
    "    print(\"start training\")\n",
    "    count=0\n",
    "    for hy in tqdm(h_space):\n",
    "        count = count + 1\n",
    "        clf = TabNetClassifier(n_a = hy[0],\n",
    "                                n_d = hy[0],\n",
    "                                optimizer_params = dict(lr=hy[1], weight_decay=hy[2]),\n",
    "                                scheduler_params={\"step_size\":hy[4], \"gamma\":hy[3]},\n",
    "                                scheduler_fn=torch.optim.lr_scheduler.StepLR,\n",
    "                                verbose=0)\n",
    "\n",
    "        clf.fit(X_train, Y_train, eval_set=[(X_train, Y_train), (X_valid, Y_valid)], \n",
    "                    eval_name=['train', 'valid'], eval_metric=['auc'],\n",
    "                    max_epochs=200 , patience=20)\n",
    "       \n",
    "        preds_acc = clf.predict(X_test)\n",
    "        preds_prob = clf.predict_proba(X_test)\n",
    "        test_auc = roc_auc_score(y_score=preds_prob[:,1], y_true=Y_test)\n",
    "        test_acc = accuracy_score(preds_acc, Y_test)\n",
    "            \n",
    "        print('Valid score: %2f'% clf.best_cost, 'Test AUC: %.3f%%'%test_auc, 'Test ACC: %.3f%%'%test_acc)\n",
    "    \n",
    "        if np.mean(test_auc)>max_auc:\n",
    "            print(\"Find new maximum test AUC!!\\n\")\n",
    "            max_hy = hy\n",
    "            max_valid_score = clf.best_cost\n",
    "            max_auc = test_auc\n",
    "            max_acc = test_acc\n",
    "    \n",
    "    return clf, max_hy, max_valid_score, max_auc, max_acc, preds_prob"
   ]
  },
  {
   "cell_type": "code",
   "execution_count": 4,
   "metadata": {
    "scrolled": true
   },
   "outputs": [
    {
     "name": "stdout",
     "output_type": "stream",
     "text": [
      "done preprocessing\n",
      "122398\n"
     ]
    }
   ],
   "source": [
    "def preprocessing (total_data):\n",
    "    total_data_processed= total_data.fillna(0).reset_index(drop=True)\n",
    "    \n",
    "    # frac: 전체 row 중 몇 %를 반환할 지 결정 -> frac=1을 설정해서 모든 데이터를 반환\n",
    "    # random_state: 추후 이것과 동일한 샘플링을 재현하기 위함\n",
    "    # sample: 데이터에서 임의의 샘플 선정 -> frac=1이면 전체 data의 순서만 임의로 바뀜\n",
    "    total_data_processed = total_data_processed.sample(frac=1,random_state=2020).reset_index(drop=True)\n",
    "    \n",
    "    print(\"done preprocessing\")\n",
    "    return total_data_processed\n",
    "\n",
    "total_data = preprocessing(total_data)\n",
    "print(len(total_data))"
   ]
  },
  {
   "cell_type": "code",
   "execution_count": 5,
   "metadata": {},
   "outputs": [],
   "source": [
    "train_cut = (int)(len(total_data)*0.8)\n",
    "#print(train_cut)                 \n",
    "\n",
    "train_data = total_data[:train_cut] \n",
    "test_data = total_data[train_cut:] \n",
    "#print(len(train_data), len(test_data))"
   ]
  },
  {
   "cell_type": "code",
   "execution_count": 6,
   "metadata": {},
   "outputs": [],
   "source": [
    "class model():\n",
    "    def __init__(self, train_data, test_data, Num_feat, features):\n",
    "        clf, max_hy, max_valid_score, max_test_auc, max_test_acc, preds_prob = find_bestpar(train_data, test_data, features)    \n",
    "    \n",
    "        self.train_data = train_data\n",
    "        self.test_data = test_data\n",
    "        self.preds_prob = preds_prob \n",
    "        self.max_hy = max_hy\n",
    "        self.test_auc = max_test_auc\n",
    "        self.test_acc = max_test_acc\n",
    "        self.valid_score = max_valid_score\n",
    "        self.clf = clf\n",
    "        self.features = features"
   ]
  },
  {
   "cell_type": "code",
   "execution_count": 7,
   "metadata": {
    "scrolled": true
   },
   "outputs": [
    {
     "name": "stdout",
     "output_type": "stream",
     "text": [
      "78334 19584 24480\n",
      "start training\n"
     ]
    },
    {
     "data": {
      "application/vnd.jupyter.widget-view+json": {
       "model_id": "da260547b30942019d7e837fee3c1120",
       "version_major": 2,
       "version_minor": 0
      },
      "text/plain": [
       "HBox(children=(HTML(value=''), FloatProgress(value=0.0, max=32.0), HTML(value='')))"
      ]
     },
     "metadata": {},
     "output_type": "display_data"
    },
    {
     "name": "stdout",
     "output_type": "stream",
     "text": [
      "\n",
      "Early stopping occurred at epoch 20 with best_epoch = 0 and best_valid_auc = 0.69021\n",
      "Best weights from best epoch are automatically used!\n",
      "Valid score: 0.690208 Test AUC: 0.684% Test ACC: 0.960%\n",
      "Find new maximum test AUC!!\n",
      "\n",
      "\n",
      "Early stopping occurred at epoch 20 with best_epoch = 0 and best_valid_auc = 0.69021\n",
      "Best weights from best epoch are automatically used!\n",
      "Valid score: 0.690208 Test AUC: 0.684% Test ACC: 0.960%\n",
      "\n",
      "Early stopping occurred at epoch 20 with best_epoch = 0 and best_valid_auc = 0.69021\n",
      "Best weights from best epoch are automatically used!\n",
      "Valid score: 0.690208 Test AUC: 0.684% Test ACC: 0.960%\n",
      "\n",
      "Early stopping occurred at epoch 20 with best_epoch = 0 and best_valid_auc = 0.69021\n",
      "Best weights from best epoch are automatically used!\n",
      "Valid score: 0.690208 Test AUC: 0.684% Test ACC: 0.960%\n",
      "\n",
      "Early stopping occurred at epoch 23 with best_epoch = 3 and best_valid_auc = 0.69018\n",
      "Best weights from best epoch are automatically used!\n",
      "Valid score: 0.690183 Test AUC: 0.684% Test ACC: 0.960%\n",
      "Find new maximum test AUC!!\n",
      "\n",
      "\n",
      "Early stopping occurred at epoch 43 with best_epoch = 23 and best_valid_auc = 0.6902\n",
      "Best weights from best epoch are automatically used!\n",
      "Valid score: 0.690198 Test AUC: 0.684% Test ACC: 0.960%\n",
      "\n",
      "Early stopping occurred at epoch 23 with best_epoch = 3 and best_valid_auc = 0.69018\n",
      "Best weights from best epoch are automatically used!\n",
      "Valid score: 0.690183 Test AUC: 0.684% Test ACC: 0.960%\n",
      "\n",
      "Early stopping occurred at epoch 43 with best_epoch = 23 and best_valid_auc = 0.6902\n",
      "Best weights from best epoch are automatically used!\n",
      "Valid score: 0.690198 Test AUC: 0.684% Test ACC: 0.960%\n",
      "\n",
      "Early stopping occurred at epoch 40 with best_epoch = 20 and best_valid_auc = 0.69047\n",
      "Best weights from best epoch are automatically used!\n",
      "Valid score: 0.690467 Test AUC: 0.684% Test ACC: 0.960%\n",
      "\n",
      "Early stopping occurred at epoch 31 with best_epoch = 11 and best_valid_auc = 0.69053\n",
      "Best weights from best epoch are automatically used!\n",
      "Valid score: 0.690526 Test AUC: 0.684% Test ACC: 0.960%\n",
      "\n",
      "Early stopping occurred at epoch 34 with best_epoch = 14 and best_valid_auc = 0.69052\n",
      "Best weights from best epoch are automatically used!\n",
      "Valid score: 0.690518 Test AUC: 0.684% Test ACC: 0.960%\n",
      "\n",
      "Early stopping occurred at epoch 31 with best_epoch = 11 and best_valid_auc = 0.69053\n",
      "Best weights from best epoch are automatically used!\n",
      "Valid score: 0.690526 Test AUC: 0.684% Test ACC: 0.960%\n",
      "\n",
      "Early stopping occurred at epoch 64 with best_epoch = 44 and best_valid_auc = 0.69064\n",
      "Best weights from best epoch are automatically used!\n",
      "Valid score: 0.690640 Test AUC: 0.684% Test ACC: 0.960%\n",
      "Find new maximum test AUC!!\n",
      "\n",
      "\n",
      "Early stopping occurred at epoch 51 with best_epoch = 31 and best_valid_auc = 0.69033\n",
      "Best weights from best epoch are automatically used!\n",
      "Valid score: 0.690332 Test AUC: 0.684% Test ACC: 0.960%\n",
      "Find new maximum test AUC!!\n",
      "\n",
      "\n",
      "Early stopping occurred at epoch 57 with best_epoch = 37 and best_valid_auc = 0.69046\n",
      "Best weights from best epoch are automatically used!\n",
      "Valid score: 0.690460 Test AUC: 0.684% Test ACC: 0.960%\n",
      "\n",
      "Early stopping occurred at epoch 56 with best_epoch = 36 and best_valid_auc = 0.69072\n",
      "Best weights from best epoch are automatically used!\n",
      "Valid score: 0.690722 Test AUC: 0.684% Test ACC: 0.960%\n",
      "\n",
      "Early stopping occurred at epoch 20 with best_epoch = 0 and best_valid_auc = 0.69023\n",
      "Best weights from best epoch are automatically used!\n",
      "Valid score: 0.690226 Test AUC: 0.684% Test ACC: 0.960%\n",
      "\n",
      "Early stopping occurred at epoch 20 with best_epoch = 0 and best_valid_auc = 0.69023\n",
      "Best weights from best epoch are automatically used!\n",
      "Valid score: 0.690226 Test AUC: 0.684% Test ACC: 0.960%\n",
      "\n",
      "Early stopping occurred at epoch 20 with best_epoch = 0 and best_valid_auc = 0.69023\n",
      "Best weights from best epoch are automatically used!\n",
      "Valid score: 0.690226 Test AUC: 0.684% Test ACC: 0.960%\n",
      "\n",
      "Early stopping occurred at epoch 20 with best_epoch = 0 and best_valid_auc = 0.69023\n",
      "Best weights from best epoch are automatically used!\n",
      "Valid score: 0.690226 Test AUC: 0.684% Test ACC: 0.960%\n",
      "\n",
      "Early stopping occurred at epoch 25 with best_epoch = 5 and best_valid_auc = 0.69019\n",
      "Best weights from best epoch are automatically used!\n",
      "Valid score: 0.690187 Test AUC: 0.684% Test ACC: 0.960%\n",
      "\n",
      "Early stopping occurred at epoch 37 with best_epoch = 17 and best_valid_auc = 0.69019\n",
      "Best weights from best epoch are automatically used!\n",
      "Valid score: 0.690191 Test AUC: 0.684% Test ACC: 0.960%\n",
      "\n",
      "Early stopping occurred at epoch 25 with best_epoch = 5 and best_valid_auc = 0.69019\n",
      "Best weights from best epoch are automatically used!\n",
      "Valid score: 0.690187 Test AUC: 0.684% Test ACC: 0.960%\n",
      "\n",
      "Early stopping occurred at epoch 37 with best_epoch = 17 and best_valid_auc = 0.69019\n",
      "Best weights from best epoch are automatically used!\n",
      "Valid score: 0.690191 Test AUC: 0.684% Test ACC: 0.960%\n",
      "\n",
      "Early stopping occurred at epoch 32 with best_epoch = 12 and best_valid_auc = 0.69047\n",
      "Best weights from best epoch are automatically used!\n",
      "Valid score: 0.690473 Test AUC: 0.684% Test ACC: 0.960%\n",
      "\n",
      "Early stopping occurred at epoch 65 with best_epoch = 45 and best_valid_auc = 0.69018\n",
      "Best weights from best epoch are automatically used!\n",
      "Valid score: 0.690182 Test AUC: 0.684% Test ACC: 0.960%\n",
      "\n",
      "Early stopping occurred at epoch 36 with best_epoch = 16 and best_valid_auc = 0.6902\n",
      "Best weights from best epoch are automatically used!\n",
      "Valid score: 0.690196 Test AUC: 0.684% Test ACC: 0.960%\n",
      "\n",
      "Early stopping occurred at epoch 44 with best_epoch = 24 and best_valid_auc = 0.69017\n",
      "Best weights from best epoch are automatically used!\n",
      "Valid score: 0.690174 Test AUC: 0.684% Test ACC: 0.960%\n",
      "\n",
      "Early stopping occurred at epoch 35 with best_epoch = 15 and best_valid_auc = 0.69115\n",
      "Best weights from best epoch are automatically used!\n",
      "Valid score: 0.691149 Test AUC: 0.683% Test ACC: 0.960%\n",
      "\n",
      "Early stopping occurred at epoch 27 with best_epoch = 7 and best_valid_auc = 0.69087\n",
      "Best weights from best epoch are automatically used!\n",
      "Valid score: 0.690865 Test AUC: 0.684% Test ACC: 0.960%\n",
      "\n",
      "Early stopping occurred at epoch 27 with best_epoch = 7 and best_valid_auc = 0.69087\n",
      "Best weights from best epoch are automatically used!\n",
      "Valid score: 0.690865 Test AUC: 0.684% Test ACC: 0.960%\n",
      "\n",
      "Early stopping occurred at epoch 27 with best_epoch = 7 and best_valid_auc = 0.69087\n",
      "Best weights from best epoch are automatically used!\n",
      "Valid score: 0.690865 Test AUC: 0.684% Test ACC: 0.960%\n",
      "\n"
     ]
    }
   ],
   "source": [
    "TabNet_mace_only_risk_model = model(train_data, test_data, Num_feat, features)"
   ]
  },
  {
   "cell_type": "code",
   "execution_count": 9,
   "metadata": {},
   "outputs": [
    {
     "name": "stdout",
     "output_type": "stream",
     "text": [
      "<<Important Feature>>\n"
     ]
    },
    {
     "data": {
      "text/html": [
       "<div>\n",
       "<style scoped>\n",
       "    .dataframe tbody tr th:only-of-type {\n",
       "        vertical-align: middle;\n",
       "    }\n",
       "\n",
       "    .dataframe tbody tr th {\n",
       "        vertical-align: top;\n",
       "    }\n",
       "\n",
       "    .dataframe thead th {\n",
       "        text-align: right;\n",
       "    }\n",
       "</style>\n",
       "<table border=\"1\" class=\"dataframe\">\n",
       "  <thead>\n",
       "    <tr style=\"text-align: right;\">\n",
       "      <th></th>\n",
       "      <th>feature name</th>\n",
       "      <th>ratio</th>\n",
       "    </tr>\n",
       "  </thead>\n",
       "  <tbody>\n",
       "    <tr>\n",
       "      <th>0</th>\n",
       "      <td>risk</td>\n",
       "      <td>1.0</td>\n",
       "    </tr>\n",
       "  </tbody>\n",
       "</table>\n",
       "</div>"
      ],
      "text/plain": [
       "  feature name  ratio\n",
       "0         risk    1.0"
      ]
     },
     "execution_count": 9,
     "metadata": {},
     "output_type": "execute_result"
    }
   ],
   "source": [
    "print(\"<<Important Feature>>\")\n",
    "import_feat=feature(Num_feat, TabNet_mace_only_risk_model.clf, TabNet_mace_only_risk_model.test_data, TabNet_mace_only_risk_model.features)\n",
    "TabNet_mace_only_risk_model.import_feat =  import_feat\n",
    "import_feat"
   ]
  },
  {
   "cell_type": "code",
   "execution_count": 12,
   "metadata": {
    "scrolled": true
   },
   "outputs": [],
   "source": [
    "import dill\n",
    "\n",
    "with open('./TabNet_mace_only_risk_model.pkl', 'wb') as f:\n",
    "    dill.dump(TabNet_mace_only_risk_model, f)"
   ]
  },
  {
   "cell_type": "code",
   "execution_count": 11,
   "metadata": {},
   "outputs": [
    {
     "name": "stderr",
     "output_type": "stream",
     "text": [
      "/opt/conda/lib/python3.7/site-packages/xgboost/sklearn.py:888: UserWarning: The use of label encoder in XGBClassifier is deprecated and will be removed in a future release. To remove this warning, do the following: 1) Pass option use_label_encoder=False when constructing XGBClassifier object; and 2) Encode your labels (y) as integers starting with 0, i.e. 0, 1, 2, ..., [num_class - 1].\n",
      "  warnings.warn(label_encoder_deprecation_msg, UserWarning)\n"
     ]
    },
    {
     "name": "stdout",
     "output_type": "stream",
     "text": [
      "0.9598447712418301\n",
      "0.6755930664236737\n"
     ]
    }
   ],
   "source": [
    "import xgboost as xgb\n",
    "\n",
    "\"\"\"\n",
    "params = {\n",
    "        'min_child_weight': [1, 5, 10],\n",
    "        'gamma': [0.5, 1, 1.5, 2, 5],\n",
    "        'subsample': [0.6, 0.8, 1.0],\n",
    "        'colsample_bytree': [0.6, 0.8, 1.0],\n",
    "        'max_depth': [3, 4, 5]\n",
    "        }\n",
    "\"\"\"\n",
    "\n",
    "train_cut = (int)(len(total_data)*0.8)\n",
    "#print(train_cut)         \n",
    "\n",
    "train_data = total_data[:train_cut] \n",
    "test_data = total_data[train_cut:] \n",
    "\n",
    "X_train = train_data[features].values\n",
    "y_train = train_data[target].values\n",
    "\n",
    "X_test = test_data[features].values\n",
    "y_test = test_data[target].values\n",
    "\n",
    "xgb_model = xgb.XGBClassifier(objective=\"binary:logistic\", random_state=42, eval_metric=\"auc\")\n",
    "xgb_model.fit(X_train, y_train)\n",
    "\n",
    "y_pred = xgb_model.predict(X_test)\n",
    "\n",
    "y_pred_prob = xgb_model.predict_proba(X_test)[:,1]\n",
    "\n",
    "print(accuracy_score(y_test, y_pred))\n",
    "print(roc_auc_score(y_test, y_pred_prob))\n",
    "#print(xgb_model.best_params_)"
   ]
  },
  {
   "cell_type": "code",
   "execution_count": null,
   "metadata": {},
   "outputs": [],
   "source": []
  }
 ],
 "metadata": {
  "kernelspec": {
   "display_name": "Python 3",
   "language": "python",
   "name": "python3"
  },
  "language_info": {
   "codemirror_mode": {
    "name": "ipython",
    "version": 3
   },
   "file_extension": ".py",
   "mimetype": "text/x-python",
   "name": "python",
   "nbconvert_exporter": "python",
   "pygments_lexer": "ipython3",
   "version": "3.7.9"
  }
 },
 "nbformat": 4,
 "nbformat_minor": 4
}
